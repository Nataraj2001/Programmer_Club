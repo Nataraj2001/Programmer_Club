{
 "cells": [
  {
   "cell_type": "code",
   "execution_count": 1,
   "metadata": {},
   "outputs": [
    {
     "name": "stdout",
     "output_type": "stream",
     "text": [
      "gnidoC yppaH\n"
     ]
    }
   ],
   "source": [
    "#Reverse a string\n",
    "str=\"Happy Coding\"\n",
    "print(str[::-1])"
   ]
  },
  {
   "cell_type": "code",
   "execution_count": 3,
   "metadata": {},
   "outputs": [
    {
     "name": "stdout",
     "output_type": "stream",
     "text": [
      "Character 'H' occurs 1 time(s) in the string.\n",
      "Character 'e' occurs 1 time(s) in the string.\n",
      "Character 'l' occurs 2 time(s) in the string.\n",
      "Character 'o' occurs 1 time(s) in the string.\n",
      "Total number of the characters in the string: 5\n"
     ]
    }
   ],
   "source": [
    "# Count a characters in a string\n",
    "def count_characters(input_string):\n",
    "    char_count={}\n",
    "    total_chars = 0\n",
    "\n",
    "    for char in input_string:\n",
    "        if char in  char_count:\n",
    "            char_count[char] += 1\n",
    "        else:\n",
    "            char_count[char] = 1\n",
    "        total_chars += 1\n",
    "    return char_count, total_chars\n",
    "\n",
    "input_str=\"Hello\"\n",
    "char_counts, total_chars = count_characters(input_str)\n",
    "\n",
    "for char, count in char_counts.items():\n",
    "    print(f\"Character '{char}' occurs {count} time(s) in the string.\")\n",
    "    \n",
    "print(f\"Total number of the characters in the string: {total_chars}\")\n",
    "\n",
    "\n",
    "\n",
    "    "
   ]
  },
  {
   "cell_type": "code",
   "execution_count": 17,
   "metadata": {},
   "outputs": [
    {
     "name": "stdout",
     "output_type": "stream",
     "text": [
      "1 occurs 1 time(s)\n",
      "2 occurs 2 time(s)\n",
      "3 occurs 1 time(s)\n",
      "4 occurs 1 time(s)\n",
      "5 occurs 1 time(s)\n",
      "6 occurs 1 time(s)\n",
      "7\n"
     ]
    }
   ],
   "source": [
    "# Duplicate ocurance number\n",
    "\n",
    "from collections import Counter\n",
    "\n",
    "my_lis = [1,2,2,3,4,5,6]\n",
    "\n",
    "counts = Counter(my_lis)\n",
    "\n",
    "for element, count in counts.items():\n",
    "    print(f\"{element} occurs {count} time(s)\")\n",
    "print(len(my_lis))\n"
   ]
  },
  {
   "cell_type": "code",
   "execution_count": 3,
   "metadata": {},
   "outputs": [
    {
     "name": "stdout",
     "output_type": "stream",
     "text": [
      "11\n"
     ]
    }
   ],
   "source": [
    "#length of the string s1\n",
    "s1=\"Hello world\" \n",
    "print(len(s1))"
   ]
  },
  {
   "cell_type": "code",
   "execution_count": 4,
   "metadata": {},
   "outputs": [
    {
     "name": "stdout",
     "output_type": "stream",
     "text": [
      "['This', 'is', 'a', 'sample', 'string']\n"
     ]
    }
   ],
   "source": [
    "#Split the string\n",
    "string = \"This is a sample string\"\n",
    "split_string = string.split()\n",
    "print(split_string)\n"
   ]
  },
  {
   "cell_type": "code",
   "execution_count": null,
   "metadata": {},
   "outputs": [
    {
     "name": "stdout",
     "output_type": "stream",
     "text": [
      "Sorted array using sort(Ascending): [1, 2, 2, 5, 5, 7, 8]\n",
      "Sorted array using sort(Dscending): [8, 7, 5, 5, 2, 2, 1]\n"
     ]
    }
   ],
   "source": [
    "#Sorting an array In Ascending and Descending Order.\n",
    "array = [5,1,2,7,8,2,5]\n",
    "array.sort()\n",
    "print(\"Sorted array using sort(Ascending):\", array)\n",
    "array1 = array[::-1]\n",
    "#print(\"Sorted array using sort(Dscending):\",array[::-1] )\n",
    "print(\"Sorted array using sort(Dscending):\",array1)\n"
   ]
  },
  {
   "cell_type": "code",
   "execution_count": 1,
   "metadata": {},
   "outputs": [
    {
     "name": "stdout",
     "output_type": "stream",
     "text": [
      "Array without dublicates: [1, 2, 4, 5, 6, 11, 24, 722]\n"
     ]
    }
   ],
   "source": [
    "# Remove duplicate element in an array\n",
    "list1=[1,1,2,4,5,6,6,722,11,11,24]\n",
    "list2=list(set(list1))\n",
    "list2.sort()\n",
    "print(\"Array without dublicates:\",list2)\n",
    "\n",
    "\n"
   ]
  },
  {
   "cell_type": "code",
   "execution_count": 27,
   "metadata": {},
   "outputs": [
    {
     "name": "stdout",
     "output_type": "stream",
     "text": [
      "[1, 3, 6, 7, 0]\n"
     ]
    }
   ],
   "source": [
    "#Replace the given list\n",
    "my_list=[1,3,7,6,9]\n",
    "my_list.sort()\n",
    "my_list[-1]=0\n",
    "print(my_list)\n"
   ]
  },
  {
   "cell_type": "code",
   "execution_count": 10,
   "metadata": {},
   "outputs": [
    {
     "name": "stdout",
     "output_type": "stream",
     "text": [
      "Odd numbers from the file\n",
      "1\n",
      "3\n",
      "5\n",
      "7\n",
      "9\n",
      "11\n",
      "13\n",
      "15\n",
      "17\n",
      "19\n"
     ]
    }
   ],
   "source": [
    "# Read and Write a file\n",
    "file_name='numbers.txt'\n",
    "\n",
    "with open(file_name,'w') as file:\n",
    "    for number in range(1,21):\n",
    "        file.write(f\"{number}\\n\")\n",
    "\n",
    "with open(file_name, 'r') as file:\n",
    "    numbers = file.readlines()\n",
    "    odd_numbers = [int(num.strip()) for num in numbers if int(num.strip()) % 2 != 0]\n",
    "\n",
    "print(\"Odd numbers from the file\")\n",
    "for odd in odd_numbers:\n",
    "    print(odd)"
   ]
  },
  {
   "cell_type": "code",
   "execution_count": 5,
   "metadata": {},
   "outputs": [
    {
     "name": "stdout",
     "output_type": "stream",
     "text": [
      "Prime numbers up to 20\n",
      "2 3 5 7 11 13 17 19 "
     ]
    }
   ],
   "source": [
    "# Print the prime numbers till 20\n",
    "def is_prime(num):\n",
    "    if num <= 1 :\n",
    "        return False\n",
    "    for i  in range(2, int(num ** 0.5 ) + 1 ):\n",
    "        if num % i == 0:\n",
    "            return False\n",
    "    return True \n",
    "\n",
    "print(\"Prime numbers up to 20\")\n",
    "\n",
    "for number in  range(1,21):\n",
    "    if is_prime(number):\n",
    "        print(number, end=\" \")\n",
    "\n",
    "    \n",
    "\n"
   ]
  },
  {
   "cell_type": "code",
   "execution_count": 25,
   "metadata": {},
   "outputs": [
    {
     "name": "stdout",
     "output_type": "stream",
     "text": [
      "1 2 3 3 "
     ]
    }
   ],
   "source": [
    "a=[1,2,3,4]\n",
    "\n",
    "for a[-1] in a:\n",
    "    print(a[-1], end = ' ')\n",
    "    "
   ]
  },
  {
   "cell_type": "code",
   "execution_count": 4,
   "metadata": {},
   "outputs": [
    {
     "name": "stdout",
     "output_type": "stream",
     "text": [
      "[1, 2]\n"
     ]
    }
   ],
   "source": [
    "# Finding the target of sum\n",
    "\n",
    "def two_sum(nums, target):\n",
    "    for i in range(len(nums)):\n",
    "        for j in range(i + 1, len(nums)):\n",
    "            if nums[i] + nums[j] == target:\n",
    "                return [i, j]\n",
    "    return None\n",
    "\n",
    "nums = [2, 7, 8, 15]\n",
    "target = 15\n",
    "print(two_sum(nums, target))"
   ]
  },
  {
   "cell_type": "code",
   "execution_count": 2,
   "metadata": {},
   "outputs": [
    {
     "name": "stdout",
     "output_type": "stream",
     "text": [
      "[2, 0, 5, 0, 11, 8, 7, 0, 0]\n"
     ]
    }
   ],
   "source": [
    "# Replace 9 with 0 and add 1 to it recending elemnt in a list\n",
    "\n",
    "def repalce_9_and_increment_next(nums):\n",
    "    for i in range(len(nums)):\n",
    "        if nums[i] == 9:\n",
    "            nums[i] = 0\n",
    "            if i < len(nums) - 1:\n",
    "                nums[i + 1] += 1\n",
    "\n",
    "    return nums\n",
    "\n",
    "nums = [2, 9, 4, 9, 10, 8, 7, 0, 9]\n",
    "print(repalce_9_and_increment_next(nums))"
   ]
  },
  {
   "cell_type": "code",
   "execution_count": 20,
   "metadata": {},
   "outputs": [
    {
     "name": "stdout",
     "output_type": "stream",
     "text": [
      "Sorted Nested list: [[1, 'Rmm'], [2, 'Rangerover'], [4, 'M-Benz '], [7, 'Bugati'], [8, 'Lamborgini']]\n"
     ]
    }
   ],
   "source": [
    "# Nested list\n",
    "nested_list = [\n",
    "    [1, 'Rmm'],\n",
    "    [2,'Rangerover'],\n",
    "    [7,'Bugati'],\n",
    "    [4,'M-Benz '],\n",
    "    [8,'Lamborgini']\n",
    "]\n",
    "\n",
    "def sort_nested_list(nested_list, index):\n",
    "    return sorted(nested_list, key = lambda x : x[index])\n",
    "\n",
    "sorted_list = sort_nested_list(nested_list, 0)\n",
    "\n",
    "print(\"Sorted Nested list:\", sorted_list)"
   ]
  },
  {
   "cell_type": "code",
   "execution_count": 2,
   "metadata": {},
   "outputs": [
    {
     "name": "stdout",
     "output_type": "stream",
     "text": [
      "Original string: This is a smaple string\n",
      "Modified string: Thisi*isi*ai*smaplei*string\n"
     ]
    }
   ],
   "source": [
    "#String manipulation  - remove space with 'i*\n",
    "\n",
    "def remove_whitespace_and_replace(text):\n",
    "    modified_text = text.replace(' ', 'i*')\n",
    "    return modified_text\n",
    "input_string = \"This is a smaple string\"\n",
    "result = remove_whitespace_and_replace(input_string)\n",
    "\n",
    "print(\"Original string:\", input_string)\n",
    "print(\"Modified string:\", result)"
   ]
  },
  {
   "cell_type": "code",
   "execution_count": 1,
   "metadata": {},
   "outputs": [
    {
     "name": "stdout",
     "output_type": "stream",
     "text": [
      "[2, 0, 6, 0, 0, 0, 12, 0, 18]\n"
     ]
    }
   ],
   "source": [
    "#List Comprehension - print even and replace odd with 0\n",
    "\n",
    "numbers = [2, 3, 6, 9, 1, 9, 12, 15, 18]\n",
    "\n",
    "Even_list = [num if num % 2 == 0 else 0 for num in numbers ]\n",
    "\n",
    "print(Even_list)"
   ]
  },
  {
   "cell_type": "code",
   "execution_count": 1,
   "metadata": {},
   "outputs": [
    {
     "name": "stdout",
     "output_type": "stream",
     "text": [
      "[1, 2, 1, 0, 1, 0]\n"
     ]
    }
   ],
   "source": [
    "#Next Hotter Days\n",
    "def find_next_hotter_days(temparatures):\n",
    "    n =len(temparatures)\n",
    "    result = [0] * n\n",
    "    stack = []\n",
    "\n",
    "    for i in range(n):\n",
    "        while stack and temparatures[i] > temparatures[stack[-1]]:\n",
    "            prev_index = stack.pop()\n",
    "            result[prev_index] = i - prev_index\n",
    "        stack.append(i)\n",
    "        \n",
    "    return result\n",
    "temparatures = [25, 32, 16, 225, 4, 122]\n",
    "result = find_next_hotter_days(temparatures)\n",
    "print(result)\n"
   ]
  },
  {
   "cell_type": "code",
   "execution_count": null,
   "metadata": {},
   "outputs": [
    {
     "name": "stdout",
     "output_type": "stream",
     "text": [
      "Square [1, 16, 25, 49]\n"
     ]
    }
   ],
   "source": [
    "# Lamdda functions\n",
    "numbers = [1,4,5,7]\n",
    "\n",
    "squre_list = list(map(lambda x:x **2, numbers))\n",
    "\n",
    "print(\"Square\", squre_list)"
   ]
  },
  {
   "cell_type": "code",
   "execution_count": 28,
   "metadata": {},
   "outputs": [
    {
     "name": "stdout",
     "output_type": "stream",
     "text": [
      "0\n"
     ]
    }
   ],
   "source": [
    "# Finding Peak element in an array\n",
    "def find_peak_element(nums):\n",
    "    n = len(nums)\n",
    "\n",
    "    for i in range(n):\n",
    "\n",
    "        if(i == 0 or nums[i] > nums[i -1]) and (i == n-1 or nums[i] > nums[i + 1]):\n",
    "\n",
    "\n",
    "            return i\n",
    "\n",
    "\n",
    "        \n",
    "    return -1\n",
    "nums = [11,10,9,81,1,2,112]\n",
    "print(find_peak_element(nums))"
   ]
  },
  {
   "cell_type": "code",
   "execution_count": 18,
   "metadata": {},
   "outputs": [
    {
     "name": "stdout",
     "output_type": "stream",
     "text": [
      "[0, 0, 0, 0, 0, 1, 1, 1]\n"
     ]
    }
   ],
   "source": [
    "# Arranging Zeros and Ones\n",
    "def arrange_zero_ones(nums):\n",
    "    left, right = 0, len(nums) - 1\n",
    "\n",
    "    while left < right:\n",
    "\n",
    "        while left < right and nums[left] == 0:\n",
    "            left += 1\n",
    "        \n",
    "        while left < right and nums[right] == 1:\n",
    "            right -= 1\n",
    "\n",
    "        if left < right:\n",
    "            nums[left], nums[right] = nums[right], nums[left]\n",
    "            left+=1\n",
    "            right-=1\n",
    "\n",
    "    return nums\n",
    "\n",
    "nums = [1, 0,0,1,1,0,0,0]\n",
    "\n",
    "print(arrange_zero_ones(nums))\n",
    "\n",
    "        \n",
    "\n"
   ]
  },
  {
   "cell_type": "code",
   "execution_count": 21,
   "metadata": {},
   "outputs": [
    {
     "name": "stdout",
     "output_type": "stream",
     "text": [
      "True\n"
     ]
    }
   ],
   "source": [
    "# Three Consecutive Odds\n",
    "def has_three_consecutive_odds(lst):\n",
    "    count = 0\n",
    "    for num in lst:\n",
    "        if num % 2 != 0:\n",
    "            count+=1\n",
    "            if count == 3:\n",
    "                return True\n",
    "            \n",
    "        else:\n",
    "\n",
    "            count = 0\n",
    "    return False\n",
    "\n",
    "numbers = [2,3,7,5,18,3]\n",
    "print(has_three_consecutive_odds(numbers))\n",
    "        "
   ]
  },
  {
   "cell_type": "code",
   "execution_count": 28,
   "metadata": {},
   "outputs": [
    {
     "name": "stdout",
     "output_type": "stream",
     "text": [
      "[[102, 8], [2, 9], [4, 21]]\n"
     ]
    }
   ],
   "source": [
    "# Sort basd on Second element\n",
    "list_of_elements = [[2,9],[4,21],[102,8]]\n",
    "\n",
    "sorted_list = sorted(list_of_elements, key = lambda x : x[1])\n",
    "\n",
    "print(sorted_list)"
   ]
  },
  {
   "cell_type": "code",
   "execution_count": 3,
   "metadata": {},
   "outputs": [
    {
     "name": "stdout",
     "output_type": "stream",
     "text": [
      "Pythoni*isi*ai*Interpretedi*andi*Objecti*orientedi*language\n"
     ]
    }
   ],
   "source": [
    "\n",
    "# Split and join operations\n",
    "text = \"Python is a Interpreted and  Object oriented language\"\n",
    "\n",
    "words = text.split()\n",
    "\n",
    "result = 'i*'.join(words)\n",
    "\n",
    "print(result)"
   ]
  },
  {
   "cell_type": "code",
   "execution_count": 4,
   "metadata": {},
   "outputs": [
    {
     "name": "stdout",
     "output_type": "stream",
     "text": [
      "7\n",
      "14\n",
      "21\n",
      "28\n",
      "35\n",
      "42\n",
      "49\n",
      "56\n",
      "63\n",
      "70\n"
     ]
    }
   ],
   "source": [
    "# Print table of Any number\n",
    "def any_table(n):\n",
    "    for i in range(1,11):\n",
    "        table = i * n\n",
    "        print(table)\n",
    "n = 7\n",
    "any_table(7)\n",
    "\n"
   ]
  },
  {
   "cell_type": "code",
   "execution_count": 2,
   "metadata": {},
   "outputs": [
    {
     "name": "stdout",
     "output_type": "stream",
     "text": [
      "[1, 2, 3, 4, 5, 6]\n"
     ]
    }
   ],
   "source": [
    "# Remove the dublicate numbers in a ist\n",
    "#numbers = [1,1,1,2,3,4,4,4,5,5,6]\n",
    "#modified_list = list(set(numbers))\n",
    "#print(modified_list)\n",
    "\n",
    "def remove_consecutive_repeats(numbers):\n",
    "    result =[numbers[0]]\n",
    "    for num in numbers[1:]:\n",
    "       \n",
    "       if num!=result[-1]:\n",
    "            result.append(num)\n",
    "    return result\n",
    "    \n",
    "numbers = [1,1,2,3,4,4,4,5,5,6]\n",
    "cleaned_numbers=remove_consecutive_repeats(numbers)\n",
    "print(cleaned_numbers)\n",
    "\n",
    "\n"
   ]
  },
  {
   "cell_type": "code",
   "execution_count": 22,
   "metadata": {},
   "outputs": [
    {
     "name": "stdout",
     "output_type": "stream",
     "text": [
      "Bubble_sort: [2, 8, 9, 23, 24, 66, 222]\n"
     ]
    }
   ],
   "source": [
    "# Bubble sort Implementation\n",
    "def bubble_sort(arr):\n",
    "    n = len(arr)\n",
    "    for i in range(n):\n",
    "        for j in range(0, n-i-1):\n",
    "            if arr[j] > arr[j+1]:\n",
    "                arr[j], arr[j+1] = arr[j+1], arr[j]\n",
    "arr = [66,23,2,24,222,8,9]\n",
    "bubble_sort(arr)\n",
    "print(\"Bubble_sort:\", arr)"
   ]
  },
  {
   "cell_type": "code",
   "execution_count": 1,
   "metadata": {},
   "outputs": [
    {
     "name": "stdout",
     "output_type": "stream",
     "text": [
      "3 2 1 1 2 3 "
     ]
    }
   ],
   "source": [
    "# Recursion Program\n",
    "def recursion(test):\n",
    "\n",
    "    if (test < 1):\n",
    "        return\n",
    "    else:\n",
    "        print(test, end =\" \")\n",
    "        recursion(test-1)\n",
    "        \n",
    "        print(test , end=\" \")\n",
    "    \n",
    "        return\n",
    "test = 3\n",
    "recursion(test)"
   ]
  },
  {
   "cell_type": "code",
   "execution_count": 3,
   "metadata": {},
   "outputs": [
    {
     "name": "stdout",
     "output_type": "stream",
     "text": [
      "Invalid Input! Please input a positive value\n",
      "0 1 1 2 3 5 8 13 21 34 "
     ]
    }
   ],
   "source": [
    "# Fibonacci Sequence -- Recursion Function\n",
    "def recursive_fibonnaci(n):\n",
    "    if n <= 1:\n",
    "        return n\n",
    "    else:\n",
    "        return (recursive_fibonnaci(n -1) + recursive_fibonnaci(n -2))\n",
    "    \n",
    "n_terms = 10\n",
    "\n",
    "if n_terms <= 10:\n",
    "    print(\"Invalid Input! Please input a positive value\")\n",
    "else:\n",
    "    print(\"Fibonacci_series\")\n",
    "\n",
    "for i in range(n_terms):\n",
    "    print(recursive_fibonnaci(i), end = \" \")"
   ]
  },
  {
   "cell_type": "markdown",
   "metadata": {},
   "source": [
    "# Practice Programms"
   ]
  },
  {
   "cell_type": "code",
   "execution_count": 7,
   "metadata": {},
   "outputs": [
    {
     "data": {
      "text/plain": [
       "[3, 5, 10, 9, 12, 17]"
      ]
     },
     "execution_count": 7,
     "metadata": {},
     "output_type": "execute_result"
    }
   ],
   "source": [
    "#Main --  Quick sort Algorithms\n",
    "def quick_sort(arr):\n",
    "    if len(arr) <= 1:\n",
    "        return arr\n",
    "    else:\n",
    "        pivot = arr[0]\n",
    "        less_than_pivot = [x for x in arr[1:] if x <= pivot]\n",
    "        greater_than_pivot = [x for x in arr[1:] if x >= pivot]\n",
    "        return quick_sort(less_than_pivot) + [pivot] + (greater_than_pivot)\n",
    "    \n",
    "arr = [12,5,10,17,9,3]\n",
    "arr1=quick_sort(arr)\n",
    "arr1"
   ]
  },
  {
   "cell_type": "code",
   "execution_count": null,
   "metadata": {},
   "outputs": [
    {
     "data": {
      "text/plain": [
       "{1, 4, 6, 13, 19, 20}"
      ]
     },
     "execution_count": 6,
     "metadata": {},
     "output_type": "execute_result"
    }
   ],
   "source": [
    "# Set Union(), Intersection() and Difference() Methods\n",
    "set1 = {1,4,6,11, 13,14,19,20}\n",
    "set2 = {1,2,4,5,6,13,16,19,20}\n",
    "#result = set2.difference(set1)\n",
    "#result = set1.union(set2)\n",
    "#result = set1.intersection(set2)\n",
    "#result = set1 ^ set2 # --- Difference symobol '^'\n",
    "#result = set1 | set2 # --- Union symobol '|'\n",
    "result = set1 & set2 # --- Difference symobol '&'\n",
    "\n",
    "result\n"
   ]
  },
  {
   "cell_type": "code",
   "execution_count": 20,
   "metadata": {},
   "outputs": [
    {
     "name": "stdout",
     "output_type": "stream",
     "text": [
      "Element found at Index value 5\n"
     ]
    }
   ],
   "source": [
    "# Linear Serach Algorithm\n",
    "def linear_search(arr, target):\n",
    "    for index, value in enumerate(arr):\n",
    "        if value == target:\n",
    "            return index\n",
    "    return None\n",
    "\n",
    "my_lis= [3,17,8,10,4,12]\n",
    "target_value = 12\n",
    "result = linear_search(my_lis, target_value)\n",
    "\n",
    "if result != -1:\n",
    "    print(f\"Element found at Index value {result}\")\n",
    "else:\n",
    "    print(\"Element Not found\")\n",
    "\n",
    "\n",
    "            "
   ]
  },
  {
   "cell_type": "code",
   "execution_count": 24,
   "metadata": {},
   "outputs": [
    {
     "name": "stdout",
     "output_type": "stream",
     "text": [
      "Element found at index value 2\n"
     ]
    }
   ],
   "source": [
    "# Binary Search Algorithm\n",
    "def Binary_search(arr, target):\n",
    "    left, right = 0, len(arr) - 1\n",
    "\n",
    "    while left <= right:\n",
    "        mid = (left + right) // 2\n",
    "        mid_value  = arr[mid]\n",
    "\n",
    "        if mid_value == target:\n",
    "            return mid\n",
    "        elif mid_value < target:\n",
    "            left = mid + 1\n",
    "\n",
    "        else:\n",
    "            right = mid - 1\n",
    "\n",
    "    return - 1\n",
    "\n",
    "sorted_lst = [1,3,6,8,11,15,22,28,30]\n",
    "target_value = 6\n",
    "result = Binary_search(sorted_lst, target_value)\n",
    "\n",
    "\n",
    "if result != -1:\n",
    "    print(f\"Element found at index value {result}\")\n",
    "else:\n",
    "    print(\"Element Not found\")\n",
    "\n",
    "        \n"
   ]
  },
  {
   "cell_type": "code",
   "execution_count": 2,
   "metadata": {},
   "outputs": [
    {
     "name": "stdout",
     "output_type": "stream",
     "text": [
      "Spaces:2\n",
      "Vowels:5\n",
      "Consonants:7\n"
     ]
    }
   ],
   "source": [
    "# WAP to Count the Vowels, consonants and spaces in the given sentence\n",
    "s = 'Code Every Day!'\n",
    "vowels ='aeiouAEIOU'\n",
    "spaces = vowels_count = consonant_count = 0\n",
    "for c in s:\n",
    "    if c.isspace():\n",
    "        spaces += 1\n",
    "    elif c in vowels:\n",
    "        vowels_count += 1\n",
    "    elif c.isalpha():\n",
    "        consonant_count += 1\n",
    "print(f\"Spaces:{spaces}\")\n",
    "print(f\"Vowels:{vowels_count}\")\n",
    "print(f\"Consonants:{consonant_count}\")\n"
   ]
  },
  {
   "cell_type": "code",
   "execution_count": 11,
   "metadata": {},
   "outputs": [
    {
     "name": "stdout",
     "output_type": "stream",
     "text": [
      "Output: 2\n"
     ]
    }
   ],
   "source": [
    "# Given an array arr, count all the triplets such that the sum of two elements equals the third element\n",
    "def count_triplets(arr):\n",
    "    count = 0\n",
    "    arr_set  = set(arr)\n",
    "    for i in range(len(arr)):\n",
    "        for j in range(i + 1, len(arr)):\n",
    "            if arr[i] + arr[j] in arr_set:\n",
    "                count += 1\n",
    "               \n",
    "                \n",
    "               \n",
    "    return count\n",
    "\n",
    "arr = [1,5,3,2]\n",
    "print(\"Output:\", count_triplets(arr))"
   ]
  },
  {
   "cell_type": "code",
   "execution_count": 5,
   "metadata": {},
   "outputs": [
    {
     "name": "stdout",
     "output_type": "stream",
     "text": [
      "Sum of Odd Numbers: 64\n"
     ]
    }
   ],
   "source": [
    "# Wirte the program to Make Sum of Odd NUmbers\n",
    "n = 15\n",
    "sum = 0\n",
    "for i in range(1, n + 1):\n",
    "    if i % 2 != 0:\n",
    "        sum  += i\n",
    "print(\"Sum of Odd Numbers:\", sum) \n"
   ]
  },
  {
   "cell_type": "code",
   "execution_count": 9,
   "metadata": {},
   "outputs": [
    {
     "name": "stdout",
     "output_type": "stream",
     "text": [
      "Leap Years are:2000 2004 2008 2012 2016 2020 2024 2028 2032 2036 2040 2044 2048 2052 2056 2060 2064 2068 "
     ]
    }
   ],
   "source": [
    "# Write a Program to print leap year from a specified \"Start\" year an \"end\" Year\n",
    "print(\"Leap Years are:\", end = \"\")\n",
    "start = 2000\n",
    "end  = 2070\n",
    "for i in range(start, end + 1):\n",
    "    if( i % 4 == 0 and i % 100 != 0) or ( i % 400 == 0):\n",
    "        print(i, end = ' ')"
   ]
  },
  {
   "cell_type": "code",
   "execution_count": 10,
   "metadata": {},
   "outputs": [
    {
     "name": "stdout",
     "output_type": "stream",
     "text": [
      "Total sum of first 10 Multiples: 550\n"
     ]
    }
   ],
   "source": [
    "# Write a program to calculate the sum of the first 10 multiple of an integer  and print the result\n",
    "n = 10\n",
    "total = 0\n",
    "for i in range(1, 11):\n",
    "    total  += n * i\n",
    "\n",
    "print(\"Total sum of first 10 Multiples:\", total)\n"
   ]
  },
  {
   "cell_type": "code",
   "execution_count": null,
   "metadata": {},
   "outputs": [
    {
     "name": "stdout",
     "output_type": "stream",
     "text": [
      "Result: 30\n"
     ]
    }
   ],
   "source": [
    "# Find the Output --> 39\n",
    "numbers = [15,25,35,45]\n",
    "total = 0\n",
    "for num in numbers:\n",
    "    total += num\n",
    "\n",
    "result = total // len(numbers)\n",
    "print(\"Result:\", result)"
   ]
  },
  {
   "cell_type": "code",
   "execution_count": null,
   "metadata": {},
   "outputs": [
    {
     "name": "stdout",
     "output_type": "stream",
     "text": [
      "45\n"
     ]
    }
   ],
   "source": [
    "# Find the Output --> 40\n",
    "ages = [12,45,13,41,19,45,1]\n",
    "start = ages[0]\n",
    "for age in ages:\n",
    "    if age > start:\n",
    "        start = age\n",
    "print(start)"
   ]
  },
  {
   "cell_type": "code",
   "execution_count": 16,
   "metadata": {},
   "outputs": [
    {
     "name": "stdout",
     "output_type": "stream",
     "text": [
      "Total Sum: 91\n"
     ]
    }
   ],
   "source": [
    "# Find the Output --  41\n",
    "n = 18\n",
    "sum = 0\n",
    "\n",
    "for  i in range(1, n + 1):\n",
    "    if i % 3 == 0 or i % 4 == 0:\n",
    "        sum += i\n",
    "\n",
    "print(\"Total Sum:\", sum)"
   ]
  },
  {
   "cell_type": "code",
   "execution_count": 3,
   "metadata": {},
   "outputs": [
    {
     "name": "stdout",
     "output_type": "stream",
     "text": [
      "151\n"
     ]
    }
   ],
   "source": [
    "# Find the Output -- > 42\n",
    "heights = [162,151,174,177]\n",
    "initial  = heights[0]\n",
    "for height in heights:\n",
    "    if height < initial:\n",
    "        initial = height\n",
    "print(initial)\n"
   ]
  },
  {
   "cell_type": "code",
   "execution_count": 6,
   "metadata": {},
   "outputs": [
    {
     "name": "stdout",
     "output_type": "stream",
     "text": [
      "[1, 49, 9, 81]\n"
     ]
    }
   ],
   "source": [
    "# Find the Output --> 43\n",
    "values = [1,7,3,9]\n",
    "computed = []\n",
    "for value in values:\n",
    "    computed.append(value ** 2)\n",
    "print(computed)"
   ]
  },
  {
   "cell_type": "code",
   "execution_count": 9,
   "metadata": {},
   "outputs": [
    {
     "name": "stdout",
     "output_type": "stream",
     "text": [
      "Product: 2, Product: 8, Product: 48, Product: 384, Product: 3840, "
     ]
    }
   ],
   "source": [
    "# Find the Output ---> 44\n",
    "numbers = [2,4,6,8,10]\n",
    "product = 1\n",
    "i = 0\n",
    "while i < len(numbers):\n",
    "    product *= numbers[i]\n",
    "    i += 1\n",
    "\n",
    "    print(\"Product:\", product, end=', ')\n"
   ]
  },
  {
   "cell_type": "code",
   "execution_count": 17,
   "metadata": {},
   "outputs": [
    {
     "name": "stdout",
     "output_type": "stream",
     "text": [
      "1 4 9 16 25 36 49 64 81 100 "
     ]
    }
   ],
   "source": [
    " # Print All the Square Numbers in the Given Range\n",
    "start  = 1\n",
    "end = 100\n",
    "num  = 1\n",
    "while num * num < start:\n",
    "    num += 1\n",
    "while num * num  <= end:\n",
    "    print(num * num, end = ' ')\n",
    "    num += 1"
   ]
  }
 ],
 "metadata": {
  "kernelspec": {
   "display_name": "Python 3",
   "language": "python",
   "name": "python3"
  },
  "language_info": {
   "codemirror_mode": {
    "name": "ipython",
    "version": 3
   },
   "file_extension": ".py",
   "mimetype": "text/x-python",
   "name": "python",
   "nbconvert_exporter": "python",
   "pygments_lexer": "ipython3",
   "version": "3.12.2"
  }
 },
 "nbformat": 4,
 "nbformat_minor": 2
}
