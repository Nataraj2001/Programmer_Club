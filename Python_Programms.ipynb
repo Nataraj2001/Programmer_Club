{
 "cells": [
  {
   "cell_type": "code",
   "execution_count": 1,
   "metadata": {},
   "outputs": [
    {
     "name": "stdout",
     "output_type": "stream",
     "text": [
      "Welcome to Python programming language\n"
     ]
    }
   ],
   "source": [
    "print(\"Welcome to Python programming language\")"
   ]
  },
  {
   "cell_type": "code",
   "execution_count": null,
   "metadata": {},
   "outputs": [
    {
     "name": "stdout",
     "output_type": "stream",
     "text": [
      " Multiplies the value of a and b\n"
     ]
    }
   ],
   "source": [
    "# Docstring Comments type\n",
    "\n",
    "def multifly(a,b):\n",
    "    ''' Multiplies the value of a and b'''\n",
    "    return a * b\n",
    "print(multifly.__doc__) \n"
   ]
  },
  {
   "cell_type": "code",
   "execution_count": 4,
   "metadata": {},
   "outputs": [
    {
     "name": "stdout",
     "output_type": "stream",
     "text": [
      "cse\n",
      "cse\n",
      "101\n",
      "102\n"
     ]
    }
   ],
   "source": [
    "#Defining Variables of a class type\n",
    "class csestudent:\n",
    "    stream='cse'\n",
    "\n",
    "    def __init__(self, roll):\n",
    "        self.roll=roll\n",
    "a=csestudent(101)\n",
    "b=csestudent(102)\n",
    "print(a.stream)\n",
    "print(b.stream)\n",
    "print(a.roll)\n",
    "print(b.roll)\n"
   ]
  },
  {
   "cell_type": "code",
   "execution_count": 1,
   "metadata": {},
   "outputs": [
    {
     "name": "stdout",
     "output_type": "stream",
     "text": [
      "4\n",
      "8\n",
      "12\n",
      "16\n",
      "20\n",
      "24\n",
      "28\n",
      "32\n",
      "36\n",
      "40\n"
     ]
    }
   ],
   "source": [
    "# Print table of the any number:\n",
    "def print_table(n):\n",
    "    for i in range(1,11):\n",
    "        print(i * n)\n",
    "print_table(4)"
   ]
  },
  {
   "cell_type": "code",
   "execution_count": 4,
   "metadata": {},
   "outputs": [
    {
     "name": "stdout",
     "output_type": "stream",
     "text": [
      "0 1 2 3 4 5 \n",
      "0 1 2 3 4 6 7 8 9 "
     ]
    }
   ],
   "source": [
    "# Use of For , while and if loop conditions\n",
    "for i in range(10):\n",
    "    print(i, end=\" \")\n",
    "    if i == 5:\n",
    "        break\n",
    "print()\n",
    "i=0\n",
    "while i<10:\n",
    "    if i==5:\n",
    "        i += 1\n",
    "        continue\n",
    "    else:\n",
    "        print(i, end=\" \")\n",
    "\n",
    "    i+=1\n"
   ]
  },
  {
   "cell_type": "code",
   "execution_count": 7,
   "metadata": {},
   "outputs": [
    {
     "name": "stdout",
     "output_type": "stream",
     "text": [
      "120\n"
     ]
    }
   ],
   "source": [
    "def factorial(n):\n",
    "    if (n==0 or n==1):\n",
    "        return 1\n",
    "    else:\n",
    "        return (n * factorial(n-1))\n",
    "num=5\n",
    "print(factorial(num))"
   ]
  },
  {
   "cell_type": "code",
   "execution_count": 5,
   "metadata": {},
   "outputs": [
    {
     "name": "stdout",
     "output_type": "stream",
     "text": [
      "10-12-2023\n"
     ]
    }
   ],
   "source": [
    "# Print() with end, sep parameters\n",
    "a, b, c= 10,12,2023\n",
    "print(a,b,c,sep=\"-\")\n",
    "\n"
   ]
  },
  {
   "cell_type": "code",
   "execution_count": 3,
   "metadata": {},
   "outputs": [
    {
     "name": "stdout",
     "output_type": "stream",
     "text": [
      "2121@jarataN\n",
      "aidni agerak edoC\n"
     ]
    }
   ],
   "source": [
    "#Python string reversed:\n",
    "str=\"Nataraj@1212\"\n",
    "print(str[::-1])\n",
    "# string reversed using join and reversed built in function\n",
    "str=\"Code karega india\" \n",
    "str=\"\".join(reversed(str))\n",
    "print(str)"
   ]
  },
  {
   "cell_type": "code",
   "execution_count": 2,
   "metadata": {},
   "outputs": [
    {
     "name": "stdout",
     "output_type": "stream",
     "text": [
      "Heplo code\n"
     ]
    }
   ],
   "source": [
    "#Updating and Deletion in the string\n",
    "str1=\"Hello code\"\n",
    "lst1=list(str1)\n",
    "lst1[2]='p'\n",
    "str2=''.join(lst1)\n",
    "print(str2) \n"
   ]
  },
  {
   "cell_type": "code",
   "execution_count": 5,
   "metadata": {},
   "outputs": [
    {
     "ename": "TypeError",
     "evalue": "unsupported operand type(s) for -: 'str' and 'int'",
     "output_type": "error",
     "traceback": [
      "\u001b[1;31m---------------------------------------------------------------------------\u001b[0m",
      "\u001b[1;31mTypeError\u001b[0m                                 Traceback (most recent call last)",
      "Cell \u001b[1;32mIn[5], line 4\u001b[0m\n\u001b[0;32m      2\u001b[0m \u001b[38;5;28;01mfor\u001b[39;00m i \u001b[38;5;129;01min\u001b[39;00m \u001b[38;5;28mrange\u001b[39m(n):\n\u001b[0;32m      3\u001b[0m     n \u001b[38;5;241m=\u001b[39m \u001b[38;5;124m'\u001b[39m\u001b[38;5;124m*\u001b[39m\u001b[38;5;124m'\u001b[39m \n\u001b[1;32m----> 4\u001b[0m     n \u001b[38;5;241m=\u001b[39m n \u001b[38;5;241m-\u001b[39m i\n\u001b[0;32m      5\u001b[0m     \u001b[38;5;28mprint\u001b[39m(\u001b[38;5;124mf\u001b[39m\u001b[38;5;124m'\u001b[39m\u001b[38;5;132;01m{\u001b[39;00mn\u001b[38;5;132;01m:\u001b[39;00m\u001b[38;5;124m 10\u001b[39m\u001b[38;5;132;01m}\u001b[39;00m\u001b[38;5;124m'\u001b[39m)\n\u001b[0;32m      6\u001b[0m     \u001b[38;5;28mprint\u001b[39m(n)\n",
      "\u001b[1;31mTypeError\u001b[0m: unsupported operand type(s) for -: 'str' and 'int'"
     ]
    }
   ],
   "source": [
    "n = 5\n",
    "for i in range(n):\n",
    "    n = '*' \n",
    "    n = n - i\n",
    "    print(f'{n: 10}')\n",
    "    print(n)"
   ]
  },
  {
   "cell_type": "code",
   "execution_count": 8,
   "metadata": {},
   "outputs": [
    {
     "name": "stdout",
     "output_type": "stream",
     "text": [
      "[1, 2, 3, 4]\n"
     ]
    }
   ],
   "source": [
    "List = [1, 2, 3, 4, 5] \n",
    "\n",
    "for i in range(1,2):\n",
    "    List.pop()\n",
    "print(List)\n",
    "    \n",
    "\n"
   ]
  }
 ],
 "metadata": {
  "kernelspec": {
   "display_name": "base",
   "language": "python",
   "name": "python3"
  },
  "language_info": {
   "codemirror_mode": {
    "name": "ipython",
    "version": 3
   },
   "file_extension": ".py",
   "mimetype": "text/x-python",
   "name": "python",
   "nbconvert_exporter": "python",
   "pygments_lexer": "ipython3",
   "version": "3.11.7"
  }
 },
 "nbformat": 4,
 "nbformat_minor": 2
}
