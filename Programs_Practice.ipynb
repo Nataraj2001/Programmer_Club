{
 "cells": [
  {
   "cell_type": "code",
   "execution_count": 1,
   "metadata": {},
   "outputs": [
    {
     "name": "stdout",
     "output_type": "stream",
     "text": [
      "Bubble sort algorithm: [1, 2, 12, 34, 65, 90]\n"
     ]
    }
   ],
   "source": [
    "# Bubble sort algorithm\n",
    "def bubble_sort(arr):\n",
    "    n = len(arr)\n",
    "    for i in range(n):\n",
    "        for j in range(0, n-i-1):\n",
    "            if arr[j] > arr[j+1]:\n",
    "                arr[j], arr[j+1] = arr[j+1],arr[j]\n",
    "arr = [65,34,2,12,1,90]\n",
    "bubble_sort(arr)\n",
    "print(\"Bubble sort algorithm:\", arr)\n",
    "            "
   ]
  },
  {
   "cell_type": "code",
   "execution_count": 41,
   "metadata": {},
   "outputs": [
    {
     "name": "stdout",
     "output_type": "stream",
     "text": [
      "[5, 6, 12, 13, 14]\n"
     ]
    }
   ],
   "source": [
    "# Insertion sort Implementation\n",
    "def insertion_sort(arr):\n",
    "    for i in range(1, len(arr)):\n",
    "        key = arr[i]\n",
    "        j = i - 1\n",
    "\n",
    "        while j >= 0 and key < arr[j]:\n",
    "            arr[j + 1] = arr[j]\n",
    "            j -= 1\n",
    "\n",
    "        arr[j + 1] = key\n",
    "\n",
    "    return arr\n",
    "\n",
    "arr = [12,13,14,5,6]\n",
    "sorted_arr = insertion_sort(arr)\n",
    "print(sorted_arr)\n"
   ]
  },
  {
   "cell_type": "code",
   "execution_count": 3,
   "metadata": {},
   "outputs": [
    {
     "name": "stdout",
     "output_type": "stream",
     "text": [
      "Sorted array: [11, 12, 22, 25, 64]\n"
     ]
    }
   ],
   "source": [
    "# Selection Sort Implementation\n",
    "def selection_sort(arr):\n",
    "    n = len(arr)\n",
    "    for i in range(n):\n",
    "        min_idx = i\n",
    "        for j in range(i+1, n):\n",
    "            if arr[j] <  arr[min_idx]:\n",
    "                min_idx = j\n",
    "\n",
    "        arr[i], arr[min_idx] = arr[min_idx], arr[i]\n",
    "\n",
    "arr = [64, 25, 12, 22, 11]\n",
    "selection_sort(arr)\n",
    "print(\"Sorted array:\",arr)"
   ]
  },
  {
   "cell_type": "code",
   "execution_count": 57,
   "metadata": {},
   "outputs": [
    {
     "name": "stdout",
     "output_type": "stream",
     "text": [
      "Merge_sort: [1, 3, 5, 6, 12, 22, 27]\n"
     ]
    }
   ],
   "source": [
    "#Implementation of MergeSort Implementation\n",
    "\n",
    "def merge_sort(arr):\n",
    "    if len(arr) <=  1:\n",
    "        return arr\n",
    "    \n",
    "    mid = len(arr) // 2\n",
    "    left_half = merge_sort(arr[:mid])\n",
    "    right_half  = merge_sort(arr[mid:])\n",
    "\n",
    "    return merge(left_half, right_half)\n",
    "\n",
    "def merge(left, right):\n",
    "    sorted_arr = []\n",
    "    i = j = 0\n",
    "\n",
    "    while i < len(left) and j < len(right):\n",
    "        if left[i] < right[j]:\n",
    "            sorted_arr.append(left[i])\n",
    "            i+=1\n",
    "        else:\n",
    "            sorted_arr.append(right[j])\n",
    "            j+=1\n",
    "    while i < len(left):\n",
    "        sorted_arr.append(left[i])\n",
    "        i+=1\n",
    "\n",
    "    while j < len(right):\n",
    "        sorted_arr.append(right[j])\n",
    "        j+=1\n",
    "\n",
    "    return sorted_arr\n",
    "\n",
    "if __name__ == \"__main__\":\n",
    "    arr = [12,3,5,6,1,22,27]\n",
    "    sorted_arr = merge_sort(arr)\n",
    "    print(\"Merge_sort:\", sorted_arr)\n",
    "\n",
    "\n",
    "\n",
    "\n",
    " "
   ]
  },
  {
   "cell_type": "code",
   "execution_count": 5,
   "metadata": {},
   "outputs": [
    {
     "name": "stdout",
     "output_type": "stream",
     "text": [
      "Sorted array: [1, 5, 7, 8, 9, 10]\n"
     ]
    }
   ],
   "source": [
    "# Quick sort Algorithm  - Divide and Conquer Method\n",
    "def quick_sort(arr):\n",
    "    if len(arr) <= 1:\n",
    "        return arr\n",
    "    else:\n",
    "        pivot = arr[0]\n",
    "        less_than_pivot = [x for x in arr[1:] if x <= pivot]\n",
    "        greater_than_pivot = [x for x in arr[1:] if x >= pivot]\n",
    "        return quick_sort(less_than_pivot) + [pivot] + quick_sort(greater_than_pivot)\n",
    "arr = [10,7,8,9,1,5]\n",
    "sorted_arr = quick_sort(arr)\n",
    "print(\"Sorted array:\", sorted_arr)    "
   ]
  },
  {
   "cell_type": "code",
   "execution_count": 3,
   "metadata": {},
   "outputs": [
    {
     "name": "stdout",
     "output_type": "stream",
     "text": [
      "[1, 2, 2, 3, 3, 4, 8]\n"
     ]
    }
   ],
   "source": [
    "# Count_sort Algorithm \n",
    "def counting_sort(arr):\n",
    "    if not arr:\n",
    "        return []\n",
    "    \n",
    "    min_val = min(arr)\n",
    "    max_val = max(arr)\n",
    "\n",
    "    range_of_elements = max_val-min_val + 1\n",
    "    \n",
    "    count = [0] * range_of_elements\n",
    "\n",
    "    for num in arr:\n",
    "        count[num - min_val] += 1\n",
    "\n",
    "    for i in range(1, len(count)):\n",
    "        count[i]  += count[i - 1]\n",
    "    \n",
    "    output = [0] * len(arr)\n",
    "    for num in reversed(arr):\n",
    "        output[count[num - min_val] - 1] = num\n",
    "        count[num  - min_val] -= 1\n",
    "\n",
    "\n",
    "    return output\n",
    "\n",
    "arr = [4, 2, 2, 8, 3, 3, 1]\n",
    "sorted_arr = counting_sort(arr)\n",
    "print(sorted_arr)"
   ]
  },
  {
   "cell_type": "code",
   "execution_count": 2,
   "metadata": {},
   "outputs": [
    {
     "name": "stdout",
     "output_type": "stream",
     "text": [
      "0\n"
     ]
    }
   ],
   "source": [
    "# Linear Search \n",
    "def linear_search(arr, target):\n",
    "    for index, value in enumerate(arr):\n",
    "        if value == target:\n",
    "            return index\n",
    "    return  -1\n",
    "my_list = [4,45 ,2,7, 9]\n",
    "target_value = 4\n",
    "result = linear_search(my_list, target_value)\n",
    "print(result)\n",
    "\n",
    "#if result != -1:\n",
    " #   print(f\"Element found at index {result}\")\n",
    "#else:\n",
    "    #print(f\"Element not found in the list\")\n",
    "\n"
   ]
  },
  {
   "cell_type": "code",
   "execution_count": 6,
   "metadata": {},
   "outputs": [
    {
     "name": "stdout",
     "output_type": "stream",
     "text": [
      "Element found at index 6\n"
     ]
    }
   ],
   "source": [
    "# Bineary serach\n",
    "def binary_search(arr, target):\n",
    "    left, right = 0, len(arr) -1\n",
    "\n",
    "    while left <= right:\n",
    "        mid = (left + right) // 2\n",
    "        mid_value = arr[mid]\n",
    "\n",
    "        if mid_value == target:\n",
    "            return mid\n",
    "        \n",
    "        elif mid_value < target:\n",
    "            left = mid + 1\n",
    "        else:\n",
    "            right = mid - 1\n",
    "    return  -1\n",
    "\n",
    "sorted_lst = [1,2,3,4,5,6,7,8,9]\n",
    "target = 7\n",
    "result = binary_search(sorted_lst , target)\n",
    "\n",
    "if result!= -1:\n",
    "    print(f\"Element found at index {result}\")\n",
    "else:\n",
    "    print(f\"Element not found\")\n",
    "\n",
    "\n",
    "    "
   ]
  },
  {
   "cell_type": "code",
   "execution_count": 1,
   "metadata": {},
   "outputs": [
    {
     "name": "stdout",
     "output_type": "stream",
     "text": [
      "0\n",
      "1\n",
      "2\n",
      "4\n",
      "5\n",
      "6\n"
     ]
    }
   ],
   "source": [
    "# Continue and Break Statements\n",
    "for i in range(10):\n",
    "    if i == 3:\n",
    "        continue\n",
    "    if i == 7:\n",
    "        break\n",
    "    print(i)"
   ]
  },
  {
   "cell_type": "code",
   "execution_count": 25,
   "metadata": {},
   "outputs": [
    {
     "name": "stdout",
     "output_type": "stream",
     "text": [
      "{1, 2, 4, 5, 6, 7, 8}\n"
     ]
    }
   ],
   "source": [
    "set1 = {1,3,5,7}\n",
    "set2 = {2,4,6,8,3}\n",
    "diff_set = set1 ^ set2\n",
    "#diff_set =   set1.intersection(set2)# set1 & set2\n",
    "#diff_set =  set1 | set2 #set1.union(set2) \n",
    "print(diff_set) "
   ]
  },
  {
   "cell_type": "code",
   "execution_count": 35,
   "metadata": {},
   "outputs": [
    {
     "name": "stdout",
     "output_type": "stream",
     "text": [
      "dict_keys(['name', 'age', 'city', 'email'])\n",
      "dict_values(['Alice', 23, 'New york', 'alice@gmail.com'])\n",
      "dict_items([('name', 'Alice'), ('age', 23), ('city', 'New york'), ('email', 'alice@gmail.com')])\n",
      "Alice\n",
      "{'a': 1, 'b': 3, 'c': 4}\n"
     ]
    }
   ],
   "source": [
    "#Dictionaries\n",
    "my_dict = {'name' : 'Alice', 'age' : 23, 'city':'New york'}\n",
    "my_dict['email'] = 'alice@gmail.com'\n",
    "keys = my_dict.keys()\n",
    "print(keys)\n",
    "values = my_dict.values()\n",
    "print(values)\n",
    "items = my_dict.items()\n",
    "print(items)\n",
    "value = my_dict.get('name', 'Unknown')\n",
    "print(value)\n",
    "\n",
    "# Merging\n",
    "dict1 = {'a' : 1, 'b' : 2}\n",
    "dict2 = {'b' :3 ,  'c' : 4}\n",
    "dict1.update(dict2)\n",
    "merged_dict = {**dict1, **dict2}\n",
    "print(merged_dict)"
   ]
  },
  {
   "cell_type": "code",
   "execution_count": 8,
   "metadata": {},
   "outputs": [
    {
     "name": "stdout",
     "output_type": "stream",
     "text": [
      "Can't Divided by Zero!\n",
      "Execution Completed\n"
     ]
    }
   ],
   "source": [
    "# Exception Handling\n",
    "try:\n",
    "    result = 10 / 0\n",
    "except ZeroDivisionError:\n",
    "    print(\"Can't Divided by Zero!\")\n",
    "else:\n",
    "    print(\"Division Successful:\")\n",
    "finally:\n",
    "    print(\"Execution Completed\")\n"
   ]
  },
  {
   "cell_type": "code",
   "execution_count": 5,
   "metadata": {},
   "outputs": [
    {
     "name": "stdout",
     "output_type": "stream",
     "text": [
      "A\n",
      "B\n",
      "D\n",
      "E\n",
      "F\n",
      "C\n"
     ]
    },
    {
     "data": {
      "text/plain": [
       "{'A', 'B', 'C', 'D', 'E', 'F'}"
      ]
     },
     "execution_count": 5,
     "metadata": {},
     "output_type": "execute_result"
    }
   ],
   "source": [
    "# Depth first search algorithm\n",
    "\n",
    "def dfs(graph, start, visited=None):\n",
    "\n",
    "    if visited is None:\n",
    "        visited = set()\n",
    "\n",
    "    visited.add(start)\n",
    "    print(start)\n",
    "\n",
    "    for neighbor in graph[start]:\n",
    "        if neighbor not in visited:\n",
    "            dfs(graph, neighbor, visited)\n",
    "\n",
    "    return visited\n",
    "\n",
    "graph = { \n",
    "\n",
    "    'A' : ['B', 'C'],\n",
    "    'B' : ['D', 'E'],\n",
    "    'C' : ['F'],\n",
    "    'D' : [],\n",
    "    'E' : ['F'],\n",
    "    'F' : []\n",
    "\n",
    "}\n",
    "\n",
    "dfs(graph, 'A')\n",
    "\n",
    "    \n",
    "\n",
    "\n",
    "    "
   ]
  },
  {
   "cell_type": "code",
   "execution_count": 16,
   "metadata": {},
   "outputs": [
    {
     "name": "stdout",
     "output_type": "stream",
     "text": [
      "A B C D E F "
     ]
    }
   ],
   "source": [
    "# Breadth first search algorithm\n",
    "\n",
    "from collections import deque\n",
    "\n",
    "def bfs(graph, start):\n",
    "    visited = set()\n",
    "    queue = deque([start])\n",
    "\n",
    "    while queue:\n",
    "        node = queue.popleft()\n",
    "        if node not in visited:\n",
    "            print(node, end = ' ')\n",
    "            visited.add(node)\n",
    "\n",
    "            for neighbor in graph[node]:\n",
    "                if neighbor not in visited:\n",
    "                    queue.append(neighbor)\n",
    "\n",
    "graph = {\n",
    "    'A' : ['B' , 'C'],\n",
    "    'B' : ['A', 'D', 'E'],\n",
    "    'C' : ['A', 'F'],\n",
    "    'D' : ['B'],\n",
    "    'E' : ['B', 'F'],\n",
    "    'F' : ['C', 'E']\n",
    "}\n",
    "\n",
    "bfs(graph, 'A')"
   ]
  },
  {
   "cell_type": "code",
   "execution_count": 12,
   "metadata": {},
   "outputs": [
    {
     "name": "stdout",
     "output_type": "stream",
     "text": [
      "4\n",
      "3\n"
     ]
    }
   ],
   "source": [
    "# Square root an Integer\n",
    "def Countsquares(x):\n",
    "    sqrt = x ** 0.5\n",
    "    result = int(sqrt)\n",
    "    return result\n",
    "x = 16\n",
    "print(Countsquares(x))\n",
    "\n",
    "# Divide and Conqure - Navie Baies Approch\n",
    "def floorsqrt(n):\n",
    "\n",
    "    if (n == 0 or n ==1):\n",
    "        return n\n",
    "    i = 1\n",
    "    result = 1\n",
    "    while(result <= n):\n",
    "        i += 1\n",
    "        result = i * i\n",
    "    return i - 1\n",
    "\n",
    "n = 11\n",
    "print(floorsqrt(n))"
   ]
  }
 ],
 "metadata": {
  "kernelspec": {
   "display_name": "base",
   "language": "python",
   "name": "python3"
  },
  "language_info": {
   "codemirror_mode": {
    "name": "ipython",
    "version": 3
   },
   "file_extension": ".py",
   "mimetype": "text/x-python",
   "name": "python",
   "nbconvert_exporter": "python",
   "pygments_lexer": "ipython3",
   "version": "3.11.7"
  }
 },
 "nbformat": 4,
 "nbformat_minor": 2
}
