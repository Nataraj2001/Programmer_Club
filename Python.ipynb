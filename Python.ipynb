{
 "cells": [
  {
   "cell_type": "code",
   "execution_count": 4,
   "metadata": {},
   "outputs": [
    {
     "name": "stdout",
     "output_type": "stream",
     "text": [
      "[4, 5]\n"
     ]
    }
   ],
   "source": [
    "# Find the intersection\n",
    "def intersection(lst1,lst2):\n",
    "    return list(set(lst1) & set(lst2))\n",
    "\n",
    "print(intersection([1,2,4,5],[4,5,7,8]))"
   ]
  },
  {
   "cell_type": "code",
   "execution_count": 5,
   "metadata": {},
   "outputs": [
    {
     "name": "stdout",
     "output_type": "stream",
     "text": [
      "Hello World\n"
     ]
    }
   ],
   "source": [
    "# Convert string to a title case\n",
    "\n",
    "def to_title_case(s):\n",
    "    return s.title()\n",
    "\n",
    "print(to_title_case(\"hello world\"))\n",
    "    "
   ]
  },
  {
   "cell_type": "code",
   "execution_count": 6,
   "metadata": {},
   "outputs": [
    {
     "name": "stdout",
     "output_type": "stream",
     "text": [
      "102.5\n"
     ]
    }
   ],
   "source": [
    "# Calculate Compound Intrest\n",
    "def compound_intrest(principle, rate, time):\n",
    "    amount = principle * (1 + rate/100) **time\n",
    "    return amount - principle\n",
    "\n",
    "print(compound_intrest(1000, 5, 2))"
   ]
  },
  {
   "cell_type": "code",
   "execution_count": 10,
   "metadata": {},
   "outputs": [
    {
     "name": "stdout",
     "output_type": "stream",
     "text": [
      "5\n",
      "5\n"
     ]
    }
   ],
   "source": [
    "# Length of list \n",
    "def list_length(lst):\n",
    "    count = 0\n",
    "    for i in lst:\n",
    "        count+=1\n",
    "    return count\n",
    "\n",
    "print(list_length([1,2,3,4,6]))\n",
    "\n",
    "# Another using Inbulit function\n",
    "lst1 = [1,3,4,5,7]\n",
    "print(len(lst1))\n",
    "\n"
   ]
  },
  {
   "cell_type": "code",
   "execution_count": 19,
   "metadata": {},
   "outputs": [
    {
     "name": "stdout",
     "output_type": "stream",
     "text": [
      "Second largest element is: 23\n"
     ]
    }
   ],
   "source": [
    "# Finding the second largest\n",
    "def second_largest(lst):\n",
    "    if len(lst) < 2:\n",
    "        return None\n",
    "    lst  = list(set(lst))\n",
    "    lst.sort()\n",
    "    return lst[-2]\n",
    "\n",
    "numbers = [23,4,56,7]\n",
    "number = second_largest(numbers)\n",
    "print(\"Second largest element is:\",number)\n",
    "    \n"
   ]
  },
  {
   "cell_type": "code",
   "execution_count": 21,
   "metadata": {},
   "outputs": [
    {
     "name": "stdout",
     "output_type": "stream",
     "text": [
      "Counter({1: 1, 3: 1, 5: 1, 6: 1})\n",
      "Length of the numbers: 4\n"
     ]
    }
   ],
   "source": [
    "# Using Counter from collections\n",
    "\n",
    "from collections import Counter\n",
    "numbers = [1,3,5,6]\n",
    "number_counts = Counter(numbers)\n",
    "print(number_counts)\n",
    "print(\"Length of the numbers:\", len(numbers))\n"
   ]
  },
  {
   "cell_type": "code",
   "execution_count": 31,
   "metadata": {},
   "outputs": [
    {
     "name": "stdout",
     "output_type": "stream",
     "text": [
      "Factorial of  5 is : 120\n"
     ]
    }
   ],
   "source": [
    "# Factorial Calculation\n",
    "def factorial(n):\n",
    "    if n == 0:\n",
    "        return 1\n",
    "    else:\n",
    "        return n * factorial(n-1)\n",
    "    \n",
    "num = 5\n",
    "num1= factorial(num)\n",
    "print(\"Factorial of \", num ,\"is :\", num1)\n"
   ]
  },
  {
   "cell_type": "code",
   "execution_count": 42,
   "metadata": {},
   "outputs": [
    {
     "name": "stdout",
     "output_type": "stream",
     "text": [
      "[2, 4, 6, 8]\n",
      "[1, 4, 16, 25, 36, 49, 64, 81, 15129]\n"
     ]
    }
   ],
   "source": [
    "# Filter and Map function\n",
    "numbers = [1,2,4,5,6,7,8,9,123]\n",
    "even_numbers = list(filter(lambda x : x % 2 == 0, numbers))\n",
    "print(even_numbers)\n",
    "squared = list(map(lambda x : x ** 2, numbers))\n",
    "print(squared)"
   ]
  },
  {
   "cell_type": "code",
   "execution_count": 44,
   "metadata": {},
   "outputs": [
    {
     "name": "stdout",
     "output_type": "stream",
     "text": [
      "120\n"
     ]
    }
   ],
   "source": [
    "# Reduce function\n",
    "from functools import reduce\n",
    "numbers = [1,2,4,5,3]\n",
    "product  = reduce(lambda x , y : x * y , numbers)\n",
    "print(product)"
   ]
  },
  {
   "cell_type": "code",
   "execution_count": 45,
   "metadata": {},
   "outputs": [
    {
     "name": "stdout",
     "output_type": "stream",
     "text": [
      "Pi 3.141592653589793\n"
     ]
    }
   ],
   "source": [
    "# Import Modules - Math\n",
    "import math\n",
    "print(\"Pi\", math.pi)"
   ]
  },
  {
   "cell_type": "code",
   "execution_count": 47,
   "metadata": {},
   "outputs": [
    {
     "name": "stdout",
     "output_type": "stream",
     "text": [
      "List is Empty []\n"
     ]
    }
   ],
   "source": [
    "# Checking if  list is Empty\n",
    "my_list = []\n",
    "if my_list == []:\n",
    "    print(\"List is Empty\", my_list)\n",
    "else:\n",
    "    print(\"List is Not Empty:\", my_list)"
   ]
  },
  {
   "cell_type": "code",
   "execution_count": 1,
   "metadata": {},
   "outputs": [
    {
     "name": "stdout",
     "output_type": "stream",
     "text": [
      "78.53981633974483\n"
     ]
    }
   ],
   "source": [
    "#Calculate the area of circle\n",
    "import math\n",
    "\n",
    "def area_of_circle(radius):\n",
    "    return math.pi * radius ** 2\n",
    "\n",
    "print(area_of_circle(5))"
   ]
  },
  {
   "cell_type": "code",
   "execution_count": 2,
   "metadata": {},
   "outputs": [
    {
     "name": "stdout",
     "output_type": "stream",
     "text": [
      "23\n"
     ]
    }
   ],
   "source": [
    "#Finding the sum of Elements\n",
    "\n",
    "number = [1,2,3,4,6,7]\n",
    "total = sum(number)\n",
    "print(total)"
   ]
  },
  {
   "cell_type": "code",
   "execution_count": 5,
   "metadata": {},
   "outputs": [
    {
     "name": "stdout",
     "output_type": "stream",
     "text": [
      "[(1, 'a'), (2, 'b'), (3, 'c')]\n"
     ]
    }
   ],
   "source": [
    "# Zipping two elements\n",
    "lst = [1,2,3,4]\n",
    "lst2 = ['a','b','c']\n",
    "zipped = list(zip(lst, lst2))\n",
    "print(zipped)"
   ]
  },
  {
   "cell_type": "code",
   "execution_count": 3,
   "metadata": {},
   "outputs": [
    {
     "name": "stdout",
     "output_type": "stream",
     "text": [
      "Counter({4: 2, 1: 1, 22: 1, 3: 1, 5: 1, 6: 1, 2: 1})\n",
      "Counter({'i': 4, ' ': 4, 'a': 2, 't': 2, 's': 2, 'W': 1, 'n': 1, 'g': 1, 'f': 1, 'o': 1, 'r': 1, 'w': 1, 'h': 1, 'l': 1})\n"
     ]
    }
   ],
   "source": [
    "# Counting the Characters\n",
    "\n",
    "from collections import Counter\n",
    "\n",
    "def Counting_character(s):\n",
    "    return Counter(s)\n",
    "\n",
    "print(Counting_character([1,22,3,4,5,6,4,2]))\n",
    "\n",
    "print(Counting_character(\"Waiting for a wish list\"))\n",
    "\n",
    "\n"
   ]
  },
  {
   "cell_type": "code",
   "execution_count": 14,
   "metadata": {},
   "outputs": [
    {
     "name": "stdout",
     "output_type": "stream",
     "text": [
      "b exist in the dictionary\n"
     ]
    }
   ],
   "source": [
    "#Checking if a key exists\n",
    "my_dict = {'a': 1 , 'b' : 2, 'c': 3}\n",
    "\n",
    "key_to_check = 'b'\n",
    "\n",
    "if key_to_check in my_dict:\n",
    "    print(f\"{key_to_check} exist in the dictionary\".format(key_to_check))"
   ]
  },
  {
   "cell_type": "code",
   "execution_count": 17,
   "metadata": {},
   "outputs": [
    {
     "name": "stdout",
     "output_type": "stream",
     "text": [
      "(1, 2, 3)\n",
      "(1, 3, 2)\n",
      "(2, 1, 3)\n",
      "(2, 3, 1)\n",
      "(3, 1, 2)\n",
      "(3, 2, 1)\n"
     ]
    }
   ],
   "source": [
    "# Generate Permutations\n",
    "from itertools import permutations\n",
    "\n",
    "perm = permutations([1,2,3])\n",
    "\n",
    "for p in perm:\n",
    "\n",
    "    print(p)\n"
   ]
  },
  {
   "cell_type": "code",
   "execution_count": 37,
   "metadata": {},
   "outputs": [
    {
     "name": "stdout",
     "output_type": "stream",
     "text": [
      "True\n"
     ]
    }
   ],
   "source": [
    "# Check anagram\n",
    "\n",
    "def are_anagrams(s1, s2):\n",
    "    return sorted(s1) == sorted(s2)\n",
    "s1 = ('tik','tak')\n",
    "s2 = ('tak','tik')\n",
    "print(are_anagrams(s1,s2))"
   ]
  },
  {
   "cell_type": "code",
   "execution_count": 2,
   "metadata": {},
   "outputs": [
    {
     "name": "stdout",
     "output_type": "stream",
     "text": [
      "Cannot divide by the zero:\n"
     ]
    }
   ],
   "source": [
    "# Handling Exceptions:\n",
    "try:\n",
    "    result = 10/0\n",
    "except ZeroDivisionError:\n",
    "    print(\"Cannot divide by the zero:\")"
   ]
  },
  {
   "cell_type": "code",
   "execution_count": 4,
   "metadata": {},
   "outputs": [
    {
     "name": "stdout",
     "output_type": "stream",
     "text": [
      "100\n"
     ]
    }
   ],
   "source": [
    "# Decimal to binary:\n",
    "\n",
    "def decimal_to_binary(n):\n",
    "    return bin(n).replace(\"0b\",\"\")\n",
    "print(decimal_to_binary(4))"
   ]
  },
  {
   "cell_type": "code",
   "execution_count": 5,
   "metadata": {},
   "outputs": [
    {
     "name": "stdout",
     "output_type": "stream",
     "text": [
      "4\n"
     ]
    }
   ],
   "source": [
    "# Binary to decimal\n",
    "\n",
    "def binary_to_decimal(binary):\n",
    "    return int(binary,2) \n",
    "print(binary_to_decimal(\"100\"))"
   ]
  },
  {
   "cell_type": "code",
   "execution_count": 7,
   "metadata": {},
   "outputs": [
    {
     "name": "stdout",
     "output_type": "stream",
     "text": [
      "12\n"
     ]
    }
   ],
   "source": [
    "# Greatest Common divisor\n",
    "def gcd(a,b):\n",
    "    while b:\n",
    "        a,b = b,  a % b\n",
    "    return a\n",
    "\n",
    "print(gcd(60, 48))"
   ]
  },
  {
   "cell_type": "code",
   "execution_count": 4,
   "metadata": {},
   "outputs": [
    {
     "name": "stdout",
     "output_type": "stream",
     "text": [
      "1\n",
      "2\n",
      "3\n",
      "4\n",
      "5\n",
      "6\n",
      "7\n",
      "8\n",
      "9\n",
      "10\n",
      "11\n",
      "12\n",
      "13\n",
      "14\n",
      "15\n",
      "16\n",
      "17\n",
      "18\n",
      "19\n",
      "20\n",
      "\n"
     ]
    }
   ],
   "source": [
    "# File reading\n",
    "file_name = 'numbers.txt'\n",
    "with open(file_name , 'r') as file:\n",
    "    content = file.read()\n",
    "    print(content)"
   ]
  },
  {
   "cell_type": "code",
   "execution_count": 7,
   "metadata": {},
   "outputs": [
    {
     "name": "stdout",
     "output_type": "stream",
     "text": [
      "Rex says Woof!\n"
     ]
    }
   ],
   "source": [
    "# Simple class\n",
    "\n",
    "class Dog:\n",
    "\n",
    "    def __init__(self, name):\n",
    "        self.name = name\n",
    "    \n",
    "    def Bark(self):\n",
    "        print(f\"{self.name} says Woof!\")\n",
    "\n",
    "dog = Dog(\"Rex\")\n",
    "dog.Bark()"
   ]
  },
  {
   "cell_type": "code",
   "execution_count": 2,
   "metadata": {},
   "outputs": [
    {
     "name": "stdout",
     "output_type": "stream",
     "text": [
      "0 apple\n",
      "1 banana\n",
      "2 cherry\n"
     ]
    }
   ],
   "source": [
    "# Enumerate function\n",
    "fruits  = ['apple', 'banana', 'cherry']\n",
    "for index, fruit in enumerate(fruits):\n",
    "    print(index, fruit)"
   ]
  },
  {
   "cell_type": "code",
   "execution_count": null,
   "metadata": {},
   "outputs": [],
   "source": [
    "\n"
   ]
  }
 ],
 "metadata": {
  "kernelspec": {
   "display_name": "base",
   "language": "python",
   "name": "python3"
  },
  "language_info": {
   "codemirror_mode": {
    "name": "ipython",
    "version": 3
   },
   "file_extension": ".py",
   "mimetype": "text/x-python",
   "name": "python",
   "nbconvert_exporter": "python",
   "pygments_lexer": "ipython3",
   "version": "3.11.7"
  }
 },
 "nbformat": 4,
 "nbformat_minor": 2
}
